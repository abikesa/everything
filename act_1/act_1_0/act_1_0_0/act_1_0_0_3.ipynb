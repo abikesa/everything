{
 "cells": [
  {
   "cell_type": "markdown",
   "metadata": {},
   "source": [
    "# \n",
    "\n",
    "**Regression**\n",
    "\n",
    "To conduct hierarchical regression analysis, you could use the `statsmodels` library in Python. This allows you to perform regression analysis step-by-step, adding variables in blocks to see how the model fit changes. This will help you understand how variables contribute to explaining the dependent variable in both high and low ICC scenarios.\n",
    "\n",
    "Let's say you're interested in predicting the 'Rate_of_Adoption' (dependent variable) from other variables, with 'Founder_Influence' as the primary predictor.\n",
    "\n",
    "Here is a step-by-step guide to performing hierarchical regression:\n",
    "\n",
    "**1. Import Libraries**"
   ]
  },
  {
   "cell_type": "code",
   "execution_count": 1,
   "metadata": {},
   "outputs": [],
   "source": [
    "import statsmodels.api as sm\n",
    "import pandas as pd"
   ]
  },
  {
   "cell_type": "markdown",
   "metadata": {},
   "source": [
    "**2. Load Dataset**\n",
    "\n",
    "You could load the dataset that you created previously. Assuming it is saved as `ICC_case_study.csv`."
   ]
  },
  {
   "cell_type": "code",
   "execution_count": 2,
   "metadata": {},
   "outputs": [],
   "source": [
    "df = pd.read_csv('ICC_case_study.csv')"
   ]
  },
  {
   "cell_type": "markdown",
   "metadata": {},
   "source": [
    "**3. Separate Data into High and Low ICC Groups**"
   ]
  },
  {
   "cell_type": "code",
   "execution_count": 3,
   "metadata": {},
   "outputs": [],
   "source": [
    "df_low_icc = df[df['ICC'] == 'Low']\n",
    "df_high_icc = df[df['ICC'] == 'High']"
   ]
  },
  {
   "cell_type": "markdown",
   "metadata": {},
   "source": [
    "**4. Hierarchical Regression for Low ICC Group**\n",
    "\n",
    "**Model 1: Predicting Rate_of_Adoption using Founder_Influence only**"
   ]
  },
  {
   "cell_type": "code",
   "execution_count": 4,
   "metadata": {},
   "outputs": [
    {
     "name": "stdout",
     "output_type": "stream",
     "text": [
      "                            OLS Regression Results                            \n",
      "==============================================================================\n",
      "Dep. Variable:       Rate_of_Adoption   R-squared:                       0.012\n",
      "Model:                            OLS   Adj. R-squared:                  0.002\n",
      "Method:                 Least Squares   F-statistic:                     1.239\n",
      "Date:                Wed, 13 Sep 2023   Prob (F-statistic):              0.268\n",
      "Time:                        16:32:46   Log-Likelihood:                -444.25\n",
      "No. Observations:                 100   AIC:                             892.5\n",
      "Df Residuals:                      98   BIC:                             897.7\n",
      "Df Model:                           1                                         \n",
      "Covariance Type:            nonrobust                                         \n",
      "=====================================================================================\n",
      "                        coef    std err          t      P>|t|      [0.025      0.975]\n",
      "-------------------------------------------------------------------------------------\n",
      "const                40.0332     10.633      3.765      0.000      18.932      61.134\n",
      "Founder_Influence     0.2294      0.206      1.113      0.268      -0.180       0.638\n",
      "==============================================================================\n",
      "Omnibus:                        5.184   Durbin-Watson:                   1.995\n",
      "Prob(Omnibus):                  0.075   Jarque-Bera (JB):                3.000\n",
      "Skew:                           0.210   Prob(JB):                        0.223\n",
      "Kurtosis:                       2.262   Cond. No.                         264.\n",
      "==============================================================================\n",
      "\n",
      "Notes:\n",
      "[1] Standard Errors assume that the covariance matrix of the errors is correctly specified.\n"
     ]
    }
   ],
   "source": [
    "X = df_low_icc[['Founder_Influence']]\n",
    "X = sm.add_constant(X)  # Adds a constant term to the predictor\n",
    "y = df_low_icc['Rate_of_Adoption']\n",
    "\n",
    "model1 = sm.OLS(y, X)\n",
    "result1 = model1.fit()\n",
    "print(result1.summary())"
   ]
  },
  {
   "cell_type": "markdown",
   "metadata": {},
   "source": [
    "\n",
    "**Model 2: Adding more predictors**"
   ]
  },
  {
   "cell_type": "code",
   "execution_count": 5,
   "metadata": {},
   "outputs": [
    {
     "name": "stdout",
     "output_type": "stream",
     "text": [
      "                            OLS Regression Results                            \n",
      "==============================================================================\n",
      "Dep. Variable:       Rate_of_Adoption   R-squared:                       0.021\n",
      "Model:                            OLS   Adj. R-squared:                 -0.010\n",
      "Method:                 Least Squares   F-statistic:                    0.6832\n",
      "Date:                Wed, 13 Sep 2023   Prob (F-statistic):              0.564\n",
      "Time:                        16:33:06   Log-Likelihood:                -443.82\n",
      "No. Observations:                 100   AIC:                             895.6\n",
      "Df Residuals:                      96   BIC:                             906.1\n",
      "Df Model:                           3                                         \n",
      "Covariance Type:            nonrobust                                         \n",
      "======================================================================================\n",
      "                         coef    std err          t      P>|t|      [0.025      0.975]\n",
      "--------------------------------------------------------------------------------------\n",
      "const                 34.6725     12.343      2.809      0.006      10.171      59.174\n",
      "Founder_Influence      0.2333      0.208      1.119      0.266      -0.181       0.647\n",
      "Societal_Impact        0.0406      0.111      0.366      0.715      -0.180       0.261\n",
      "Geographical_Reach     0.0706      0.091      0.776      0.439      -0.110       0.251\n",
      "==============================================================================\n",
      "Omnibus:                        4.323   Durbin-Watson:                   2.030\n",
      "Prob(Omnibus):                  0.115   Jarque-Bera (JB):                2.666\n",
      "Skew:                           0.194   Prob(JB):                        0.264\n",
      "Kurtosis:                       2.301   Cond. No.                         506.\n",
      "==============================================================================\n",
      "\n",
      "Notes:\n",
      "[1] Standard Errors assume that the covariance matrix of the errors is correctly specified.\n"
     ]
    }
   ],
   "source": [
    "X = df_low_icc[['Founder_Influence', 'Societal_Impact', 'Geographical_Reach']]\n",
    "X = sm.add_constant(X)\n",
    "\n",
    "model2 = sm.OLS(y, X)\n",
    "result2 = model2.fit()\n",
    "print(result2.summary())"
   ]
  },
  {
   "cell_type": "markdown",
   "metadata": {},
   "source": [
    "**5. Hierarchical Regression for High ICC Group**\n",
    "\n",
    "You would repeat the same process for the high ICC group using `df_high_icc`."
   ]
  },
  {
   "cell_type": "code",
   "execution_count": 6,
   "metadata": {},
   "outputs": [
    {
     "name": "stdout",
     "output_type": "stream",
     "text": [
      "                            OLS Regression Results                            \n",
      "==============================================================================\n",
      "Dep. Variable:       Rate_of_Adoption   R-squared:                       0.001\n",
      "Model:                            OLS   Adj. R-squared:                 -0.009\n",
      "Method:                 Least Squares   F-statistic:                    0.1272\n",
      "Date:                Wed, 13 Sep 2023   Prob (F-statistic):              0.722\n",
      "Time:                        16:33:25   Log-Likelihood:                -366.07\n",
      "No. Observations:                 100   AIC:                             736.1\n",
      "Df Residuals:                      98   BIC:                             741.4\n",
      "Df Model:                           1                                         \n",
      "Covariance Type:            nonrobust                                         \n",
      "=====================================================================================\n",
      "                        coef    std err          t      P>|t|      [0.025      0.975]\n",
      "-------------------------------------------------------------------------------------\n",
      "const                64.0773     13.175      4.864      0.000      37.933      90.222\n",
      "Founder_Influence     0.0676      0.190      0.357      0.722      -0.309       0.444\n",
      "==============================================================================\n",
      "Omnibus:                        1.754   Durbin-Watson:                   2.134\n",
      "Prob(Omnibus):                  0.416   Jarque-Bera (JB):                1.692\n",
      "Skew:                           0.311   Prob(JB):                        0.429\n",
      "Kurtosis:                       2.858   Cond. No.                         964.\n",
      "==============================================================================\n",
      "\n",
      "Notes:\n",
      "[1] Standard Errors assume that the covariance matrix of the errors is correctly specified.\n",
      "                            OLS Regression Results                            \n",
      "==============================================================================\n",
      "Dep. Variable:       Rate_of_Adoption   R-squared:                       0.012\n",
      "Model:                            OLS   Adj. R-squared:                 -0.019\n",
      "Method:                 Least Squares   F-statistic:                    0.3850\n",
      "Date:                Wed, 13 Sep 2023   Prob (F-statistic):              0.764\n",
      "Time:                        16:33:25   Log-Likelihood:                -365.54\n",
      "No. Observations:                 100   AIC:                             739.1\n",
      "Df Residuals:                      96   BIC:                             749.5\n",
      "Df Model:                           3                                         \n",
      "Covariance Type:            nonrobust                                         \n",
      "======================================================================================\n",
      "                         coef    std err          t      P>|t|      [0.025      0.975]\n",
      "--------------------------------------------------------------------------------------\n",
      "const                 61.0449     16.360      3.731      0.000      28.570      93.520\n",
      "Founder_Influence      0.0847      0.192      0.442      0.660      -0.296       0.466\n",
      "Societal_Impact       -0.0596      0.103     -0.576      0.566      -0.265       0.146\n",
      "Geographical_Reach     0.0837      0.102      0.824      0.412      -0.118       0.286\n",
      "==============================================================================\n",
      "Omnibus:                        1.849   Durbin-Watson:                   2.139\n",
      "Prob(Omnibus):                  0.397   Jarque-Bera (JB):                1.758\n",
      "Skew:                           0.319   Prob(JB):                        0.415\n",
      "Kurtosis:                       2.879   Cond. No.                     2.09e+03\n",
      "==============================================================================\n",
      "\n",
      "Notes:\n",
      "[1] Standard Errors assume that the covariance matrix of the errors is correctly specified.\n",
      "[2] The condition number is large, 2.09e+03. This might indicate that there are\n",
      "strong multicollinearity or other numerical problems.\n"
     ]
    }
   ],
   "source": [
    "X_high = df_high_icc[['Founder_Influence']]\n",
    "X_high = sm.add_constant(X_high)\n",
    "y_high = df_high_icc['Rate_of_Adoption']\n",
    "\n",
    "model1_high = sm.OLS(y_high, X_high)\n",
    "result1_high = model1_high.fit()\n",
    "print(result1_high.summary())\n",
    "\n",
    "# Add more variables to Model 2 for the high ICC group\n",
    "X_high = df_high_icc[['Founder_Influence', 'Societal_Impact', 'Geographical_Reach']]\n",
    "X_high = sm.add_constant(X_high)\n",
    "\n",
    "model2_high = sm.OLS(y_high, X_high)\n",
    "result2_high = model2_high.fit()\n",
    "print(result2_high.summary())"
   ]
  }
 ],
 "metadata": {
  "kernelspec": {
   "display_name": "Python 3",
   "language": "python",
   "name": "python3"
  },
  "language_info": {
   "codemirror_mode": {
    "name": "ipython",
    "version": 3
   },
   "file_extension": ".py",
   "mimetype": "text/x-python",
   "name": "python",
   "nbconvert_exporter": "python",
   "pygments_lexer": "ipython3",
   "version": "3.11.2"
  },
  "orig_nbformat": 4
 },
 "nbformat": 4,
 "nbformat_minor": 2
}
